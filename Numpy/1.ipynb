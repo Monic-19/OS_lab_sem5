{
 "cells": [
  {
   "cell_type": "code",
   "execution_count": 3,
   "metadata": {},
   "outputs": [
    {
     "name": "stdout",
     "output_type": "stream",
     "text": [
      "[1 2 3 4]\n"
     ]
    }
   ],
   "source": [
    "import numpy as np\n",
    "\n",
    "x = np.array([1,2,3,4])\n",
    "print(x)"
   ]
  },
  {
   "cell_type": "code",
   "execution_count": 10,
   "metadata": {},
   "outputs": [
    {
     "name": "stdout",
     "output_type": "stream",
     "text": [
      "371 ns ± 2.25 ns per loop (mean ± std. dev. of 7 runs, 1,000,000 loops each)\n"
     ]
    }
   ],
   "source": [
    "%timeit [ j**4 for j in range(1,9) ]"
   ]
  },
  {
   "cell_type": "code",
   "execution_count": 9,
   "metadata": {},
   "outputs": [
    {
     "name": "stdout",
     "output_type": "stream",
     "text": [
      "814 ns ± 1.96 ns per loop (mean ± std. dev. of 7 runs, 1,000,000 loops each)\n"
     ]
    }
   ],
   "source": [
    "%timeit [np.arange(1,9)**4]"
   ]
  },
  {
   "cell_type": "markdown",
   "metadata": {},
   "source": [
    "# Array"
   ]
  },
  {
   "cell_type": "code",
   "execution_count": 13,
   "metadata": {},
   "outputs": [
    {
     "name": "stdout",
     "output_type": "stream",
     "text": [
      "[[1 2 3 4]\n",
      " [5 6 7 8]]\n"
     ]
    }
   ],
   "source": [
    "p = np.array([ [1,2,3,4] , [5,6,7,8]])\n",
    "print(p)"
   ]
  },
  {
   "cell_type": "code",
   "execution_count": 16,
   "metadata": {},
   "outputs": [
    {
     "name": "stdout",
     "output_type": "stream",
     "text": [
      "[[0. 0. 0. 0.]\n",
      " [0. 0. 0. 0.]\n",
      " [0. 0. 0. 0.]]\n"
     ]
    }
   ],
   "source": [
    "zero = np.zeros( (3,4) )\n",
    "print(zero)"
   ]
  },
  {
   "cell_type": "code",
   "execution_count": 17,
   "metadata": {},
   "outputs": [
    {
     "name": "stdout",
     "output_type": "stream",
     "text": [
      "[[1. 1.]\n",
      " [1. 1.]\n",
      " [1. 1.]\n",
      " [1. 1.]\n",
      " [1. 1.]]\n"
     ]
    }
   ],
   "source": [
    "ones = np.ones((5,2))\n",
    "print(ones)"
   ]
  },
  {
   "cell_type": "code",
   "execution_count": 18,
   "metadata": {},
   "outputs": [
    {
     "name": "stdout",
     "output_type": "stream",
     "text": [
      "[0. 0. 0. 0.]\n"
     ]
    }
   ],
   "source": [
    "print(np.empty(4))"
   ]
  },
  {
   "cell_type": "code",
   "execution_count": 19,
   "metadata": {},
   "outputs": [
    {
     "name": "stdout",
     "output_type": "stream",
     "text": [
      "[[1. 0. 0. 0. 0.]\n",
      " [0. 1. 0. 0. 0.]\n",
      " [0. 0. 1. 0. 0.]\n",
      " [0. 0. 0. 1. 0.]\n",
      " [0. 0. 0. 0. 1.]]\n"
     ]
    }
   ],
   "source": [
    "print(np.eye(5))"
   ]
  },
  {
   "cell_type": "code",
   "execution_count": 27,
   "metadata": {},
   "outputs": [
    {
     "name": "stdout",
     "output_type": "stream",
     "text": [
      "[ 0.   2.5  5.   7.5 10. ]\n"
     ]
    }
   ],
   "source": [
    "print(np.linspace(0,10,num = 5))"
   ]
  },
  {
   "cell_type": "markdown",
   "metadata": {},
   "source": [
    "# Random\n"
   ]
  },
  {
   "cell_type": "code",
   "execution_count": 31,
   "metadata": {},
   "outputs": [
    {
     "name": "stdout",
     "output_type": "stream",
     "text": [
      "[[0.86576102 0.55040356 0.13744017 0.65474952]\n",
      " [0.6720665  0.88105607 0.84162805 0.68244208]\n",
      " [0.3884721  0.76689363 0.21814964 0.08585709]]\n"
     ]
    }
   ],
   "source": [
    "var = np.random.rand( 3,4 )\n",
    "print(var)"
   ]
  },
  {
   "cell_type": "code",
   "execution_count": 33,
   "metadata": {},
   "outputs": [
    {
     "name": "stdout",
     "output_type": "stream",
     "text": [
      "[[ 1.41038348 -0.3284894   0.75268559  1.33939807]\n",
      " [-1.4290968   0.97464435 -2.02508008 -0.42961306]\n",
      " [-1.19826449 -1.24410273  1.77892577  0.15882404]]\n"
     ]
    }
   ],
   "source": [
    "var = np.random.randn( 3,4 )\n",
    "print(var)"
   ]
  },
  {
   "cell_type": "code",
   "execution_count": 34,
   "metadata": {},
   "outputs": [
    {
     "name": "stdout",
     "output_type": "stream",
     "text": [
      "[0.01334622 0.87598744 0.53316234 0.96882954]\n"
     ]
    }
   ],
   "source": [
    "var = np.random.ranf(4 )\n",
    "print(var)"
   ]
  },
  {
   "cell_type": "code",
   "execution_count": 39,
   "metadata": {},
   "outputs": [
    {
     "name": "stdout",
     "output_type": "stream",
     "text": [
      "[18 11  1 10  1 10  7  5  7 17  4 18  6]\n"
     ]
    }
   ],
   "source": [
    "var = np.random.randint( 1,20 ,13)\n",
    "print(var)"
   ]
  },
  {
   "cell_type": "markdown",
   "metadata": {},
   "source": [
    "# Datatypes in Numpy"
   ]
  },
  {
   "cell_type": "code",
   "execution_count": 44,
   "metadata": {},
   "outputs": [
    {
     "name": "stdout",
     "output_type": "stream",
     "text": [
      "[1 2 3 4] [1.1 2.1 3.1 4.4] ['Neil' 'Nitin' 'Mukesh']\n",
      "int64 float64 <U6\n"
     ]
    }
   ],
   "source": [
    "var = np.array([1,2,3,4])\n",
    "var2 = np.array([1.1,2.1,3.1,4.4])\n",
    "var3 = np.array([\"Neil\", \"Nitin\", \"Mukesh\"])\n",
    "print(var , var2 , var3)\n",
    "print(var.dtype , var2.dtype , var3.dtype)"
   ]
  },
  {
   "cell_type": "code",
   "execution_count": 50,
   "metadata": {},
   "outputs": [
    {
     "name": "stdout",
     "output_type": "stream",
     "text": [
      "[1. 2. 3. 4.]\n"
     ]
    }
   ],
   "source": [
    "var = np.array([1,2,3,4] , dtype=\"f\")\n",
    "print(var)"
   ]
  },
  {
   "cell_type": "code",
   "execution_count": 54,
   "metadata": {},
   "outputs": [
    {
     "name": "stdout",
     "output_type": "stream",
     "text": [
      "['1' '2' '3' '4']\n"
     ]
    }
   ],
   "source": [
    "var = np.array([1,2,3,4])\n",
    "var2 = var.astype(str)\n",
    "print(var2)"
   ]
  },
  {
   "cell_type": "markdown",
   "metadata": {},
   "source": [
    "# Shape & Resize"
   ]
  },
  {
   "cell_type": "code",
   "execution_count": 57,
   "metadata": {},
   "outputs": [
    {
     "name": "stdout",
     "output_type": "stream",
     "text": [
      "[[1 2]\n",
      " [1 2]]\n",
      "\n",
      "(2, 2)\n"
     ]
    }
   ],
   "source": [
    "var = np.array( [ [1,2], [1,2] ] )\n",
    "print(var)\n",
    "print()\n",
    "print(var.shape)"
   ]
  },
  {
   "cell_type": "code",
   "execution_count": 58,
   "metadata": {},
   "outputs": [
    {
     "name": "stdout",
     "output_type": "stream",
     "text": [
      "[[[[[1 2 3 4]]]]]\n",
      "\n",
      "(1, 1, 1, 1, 4)\n"
     ]
    }
   ],
   "source": [
    "var = np.array( [ 1,2,3,4] , ndmin=5)\n",
    "print(var)\n",
    "print()\n",
    "print(var.shape)"
   ]
  },
  {
   "cell_type": "code",
   "execution_count": 60,
   "metadata": {},
   "outputs": [
    {
     "name": "stdout",
     "output_type": "stream",
     "text": [
      "1\n",
      "\n",
      "2\n"
     ]
    }
   ],
   "source": [
    "var = np.array( [ 1,2,3,4] )\n",
    "var2 = var.reshape(2,2)\n",
    "print(var.ndim)\n",
    "print()\n",
    "print(var2.ndim)"
   ]
  },
  {
   "cell_type": "markdown",
   "metadata": {},
   "source": [
    "# Airthmetic operation"
   ]
  },
  {
   "cell_type": "code",
   "execution_count": 67,
   "metadata": {},
   "outputs": [
    {
     "name": "stdout",
     "output_type": "stream",
     "text": [
      "[4 5 6 7]\n",
      "[ 5  7  9 11]\n",
      "[-3 -3 -3 -3]\n",
      "[ 4 10 18 28]\n",
      "[0.25       0.4        0.5        0.57142857]\n",
      "[0 1 0 3]\n",
      "[    1    32   729 16384]\n",
      "[1.         0.5        0.33333333 0.25      ]\n"
     ]
    }
   ],
   "source": [
    "a = np.array([1,2,3,4])\n",
    "b = np.array([4,5,6,7])\n",
    "\n",
    "print(a+3)\n",
    "print(a+b)\n",
    "print(a-b)\n",
    "print(a*b)\n",
    "print(a/b)\n",
    "print(b%a)\n",
    "print(a**b)\n",
    "print(1/a)\n",
    "\n"
   ]
  },
  {
   "cell_type": "code",
   "execution_count": 69,
   "metadata": {},
   "outputs": [
    {
     "name": "stdout",
     "output_type": "stream",
     "text": [
      "[[9 9 9 9]\n",
      " [9 9 9 9]]\n",
      "[[1.         0.5        0.33333333 0.25      ]\n",
      " [0.2        0.16666667 0.14285714 0.125     ]]\n"
     ]
    }
   ],
   "source": [
    "var1 = np.array([ [1,2,3,4], [5,6,7,8] ])\n",
    "var2 = np.array([ [8,7,6,5], [4,3,2,1] ])\n",
    "\n",
    "print(var1+var2)\n",
    "print()\n",
    "print(1/var1)\n"
   ]
  },
  {
   "cell_type": "markdown",
   "metadata": {},
   "source": [
    "# Airthmetic Function"
   ]
  },
  {
   "cell_type": "code",
   "execution_count": 78,
   "metadata": {},
   "outputs": [
    {
     "name": "stdout",
     "output_type": "stream",
     "text": [
      "1\n",
      "5\n",
      "9\n",
      "[1.         1.41421356 1.73205081 2.         2.         2.\n",
      " 1.41421356 2.         1.41421356 2.23606798 1.73205081]\n",
      "[ 0.84147098  0.90929743  0.14112001 -0.7568025  -0.7568025  -0.7568025\n",
      "  0.90929743 -0.7568025   0.90929743 -0.95892427  0.14112001]\n",
      "[ 1  3  6 10 14 18 20 24 26 31 34]\n",
      "[    1     2     6    24    96   384   768  3072  6144 30720 92160]\n"
     ]
    }
   ],
   "source": [
    "a = np.array([1,2,3,4,4,4,2,4,2,5,3])\n",
    "print(np.min(a))\n",
    "print(np.max(a))\n",
    "print(np.argmax(a))\n",
    "print(np.sqrt(a))\n",
    "print(np.sin(a))\n",
    "print(np.cumsum(a))\n",
    "print(np.cumproduct(a))\n",
    "\n"
   ]
  },
  {
   "cell_type": "code",
   "execution_count": 83,
   "metadata": {},
   "outputs": [
    {
     "name": "stdout",
     "output_type": "stream",
     "text": [
      "[ 1  2  3  4  5  6  7  8  9 10 11 12 13 14 15 16 17 18 19 20 21 22 23 24\n",
      " 25 26 27 28 29 30 31 32 33 34 35 36 37 38 39 40 41 42 43 44 45 46 47 48\n",
      " 49 50 51 52 53 54 55 56 57 58 59 60 61 62 63 64]\n",
      "[                   1                    2                    6\n",
      "                   24                  120                  720\n",
      "                 5040                40320               362880\n",
      "              3628800             39916800            479001600\n",
      "           6227020800          87178291200        1307674368000\n",
      "       20922789888000      355687428096000     6402373705728000\n",
      "   121645100408832000  2432902008176640000 -4249290049419214848\n",
      " -1250660718674968576  8128291617894825984 -7835185981329244160\n",
      "  7034535277573963776 -1569523520172457984 -5483646897237262336\n",
      " -5968160532966932480 -7055958792655077376 -8764578968847253504\n",
      "  4999213071378415616 -6045878379276664832  3400198294675128320\n",
      "  4926277576697053184  6399018521010896896  9003737871877668864\n",
      "  1096907932701818880  4789013295250014208  2304077777655037952\n",
      "   -70609262346240000 -2894979756195840000  7538058755741581312\n",
      " -7904866829883932672  2673996885588443136 -8797348664486920192\n",
      "  1150331055211806720 -1274672626173739008 -5844053835210817536\n",
      "  8789267254022766592 -3258495067890909184  -162551799050403840\n",
      " -8452693550620999680 -5270900413883744256 -7927461244078915584\n",
      "  6711489344688881664  6908521828386340864  6404118670120845312\n",
      "  2504001392817995776   162129586585337856 -8718968878589280256\n",
      "  3098476543630901248  7638104968020361216  1585267068834414592\n",
      " -9223372036854775808]\n"
     ]
    }
   ],
   "source": [
    "a = np.arange(1,65)\n",
    "print(a)\n",
    "print(np.cumproduct(a))"
   ]
  },
  {
   "cell_type": "code",
   "execution_count": null,
   "metadata": {},
   "outputs": [],
   "source": []
  }
 ],
 "metadata": {
  "kernelspec": {
   "display_name": "Python 3",
   "language": "python",
   "name": "python3"
  },
  "language_info": {
   "codemirror_mode": {
    "name": "ipython",
    "version": 3
   },
   "file_extension": ".py",
   "mimetype": "text/x-python",
   "name": "python",
   "nbconvert_exporter": "python",
   "pygments_lexer": "ipython3",
   "version": "3.11.3"
  },
  "orig_nbformat": 4
 },
 "nbformat": 4,
 "nbformat_minor": 2
}
