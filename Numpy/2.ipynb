{
 "cells": [
  {
   "cell_type": "code",
   "execution_count": 13,
   "metadata": {},
   "outputs": [],
   "source": [
    "import numpy as np "
   ]
  },
  {
   "cell_type": "markdown",
   "metadata": {},
   "source": [
    "# Broadcasting"
   ]
  },
  {
   "cell_type": "code",
   "execution_count": 14,
   "metadata": {},
   "outputs": [
    {
     "name": "stdout",
     "output_type": "stream",
     "text": [
      "[1 2 3] \n",
      " (3,)\n",
      "\n",
      "[[1]\n",
      " [2]\n",
      " [3]] \n",
      " (3, 1)\n",
      "\n",
      "[[2 3 4]\n",
      " [3 4 5]\n",
      " [4 5 6]]\n"
     ]
    }
   ],
   "source": [
    "var = np.array([1,2,3])\n",
    "var2 = np.array([ [1],[2],[3]])\n",
    "\n",
    "print(var , \"\\n\",var.shape)\n",
    "print()\n",
    "print(var2 , \"\\n\",var2.shape)\n",
    "\n",
    "\n",
    "print()\n",
    "print(var+var2)\n"
   ]
  },
  {
   "cell_type": "markdown",
   "metadata": {},
   "source": [
    "# Indexing & Slicing"
   ]
  },
  {
   "cell_type": "code",
   "execution_count": 26,
   "metadata": {},
   "outputs": [
    {
     "name": "stdout",
     "output_type": "stream",
     "text": [
      "3\n",
      "Direct access : 7\n",
      "i :  [9 8 7]\n",
      "j :  9 j :  8 j :  7 i :  [6 5 4]\n",
      "j :  6 j :  5 j :  4 "
     ]
    }
   ],
   "source": [
    "var = np.array([1,2,3,4,5])\n",
    "print(var[-3])\n",
    "\n",
    "var2 = np.array([ [9,8,7] , [6,5,4]])\n",
    "\n",
    "print(\"Direct access :\", var2[0][2])\n",
    "\n",
    "for i in var2 : \n",
    "    print(\"i : \", i)\n",
    "    for j in i : \n",
    "        print(\"j : \", j, end=\" \")"
   ]
  },
  {
   "cell_type": "code",
   "execution_count": 36,
   "metadata": {},
   "outputs": [
    {
     "name": "stdout",
     "output_type": "stream",
     "text": [
      "[[[1 2]\n",
      "  [3 4]]\n",
      "\n",
      " [[5 6]\n",
      "  [7 8]]]\n",
      "\n",
      "i :  [[1 2]\n",
      " [3 4]]\n",
      "j :  [1 2]\n",
      "\n",
      "k :  1 \n",
      "k :  2 \n",
      "j :  [3 4]\n",
      "\n",
      "k :  3 \n",
      "k :  4 \n",
      "i :  [[5 6]\n",
      " [7 8]]\n",
      "j :  [5 6]\n",
      "\n",
      "k :  5 \n",
      "k :  6 \n",
      "j :  [7 8]\n",
      "\n",
      "k :  7 \n",
      "k :  8 \n"
     ]
    }
   ],
   "source": [
    "var3 = np.array([ [ [1,2], [3,4] ], [ [5,6] , [7,8]] ])\n",
    "print(var3)\n",
    "print()\n",
    "\n",
    "for i in var3 : \n",
    "    print(\"i : \", i)\n",
    "    for j in i : \n",
    "        print(\"j : \", j)\n",
    "        print()\n",
    "        for k in j : \n",
    "            print(\"k : \", k, end=\" \")\n",
    "            print()"
   ]
  },
  {
   "cell_type": "code",
   "execution_count": 53,
   "metadata": {},
   "outputs": [
    {
     "name": "stdout",
     "output_type": "stream",
     "text": [
      "[1 3 5 7 9] \n",
      "\n",
      "[10  8  6  4  2] \n",
      "\n",
      "[[1 2 3 4 5 6 7 8 9]\n",
      " [7 8 9 1 2 3 4 5 6]]\n"
     ]
    }
   ],
   "source": [
    "var = np.array([1,2,3,4,5,6,7,8,9,10])\n",
    "print(var[0:9:2],\"\\n\")\n",
    "print(var[9:0:-2], \"\\n\")\n",
    "\n",
    "var2 = np.array([ [9,8,7,6,5,4,3,2,1] , [6,5,4,3,2,1,9,8,7]])\n",
    "print(var2[0:,::-1])"
   ]
  },
  {
   "cell_type": "code",
   "execution_count": 56,
   "metadata": {},
   "outputs": [
    {
     "name": "stdout",
     "output_type": "stream",
     "text": [
      "3\n",
      "6\n",
      "9\n",
      "12\n",
      "15\n",
      "18\n",
      "21\n",
      "24\n"
     ]
    }
   ],
   "source": [
    "for i in np.nditer(var3, flags=[\"buffered\"]):\n",
    "    print(i*3)"
   ]
  },
  {
   "cell_type": "code",
   "execution_count": 57,
   "metadata": {},
   "outputs": [
    {
     "name": "stdout",
     "output_type": "stream",
     "text": [
      "(0, 0, 0) 1\n",
      "(0, 0, 1) 2\n",
      "(0, 1, 0) 3\n",
      "(0, 1, 1) 4\n",
      "(1, 0, 0) 5\n",
      "(1, 0, 1) 6\n",
      "(1, 1, 0) 7\n",
      "(1, 1, 1) 8\n"
     ]
    }
   ],
   "source": [
    "for i,d in np.ndenumerate(var3 ):\n",
    "    print(i , d)"
   ]
  },
  {
   "cell_type": "markdown",
   "metadata": {},
   "source": [
    "# copy vs view"
   ]
  },
  {
   "cell_type": "code",
   "execution_count": 64,
   "metadata": {},
   "outputs": [
    {
     "name": "stdout",
     "output_type": "stream",
     "text": [
      "[ 1  2  3  4  5  6  7  8  9 10] \n",
      " [ 1  2  3  4  5  6  7  8  9 10] \n",
      " [ 1  2  3  4  5  6  7  8  9 10] \n",
      "\n"
     ]
    }
   ],
   "source": [
    "co = var.copy()\n",
    "vi = var.view()\n",
    "print(var,\"\\n\",co,\"\\n\",vi,\"\\n\")\n"
   ]
  },
  {
   "cell_type": "markdown",
   "metadata": {},
   "source": [
    "# join & split function\n"
   ]
  },
  {
   "cell_type": "code",
   "execution_count": 76,
   "metadata": {},
   "outputs": [
    {
     "name": "stdout",
     "output_type": "stream",
     "text": [
      "[1 2 3 4 5 6 7 8]\n"
     ]
    }
   ],
   "source": [
    "var = np.array([1,2,3,4])\n",
    "var1 = np.array([5,6,7,8])\n",
    "arr = np.concatenate((var,var1))\n",
    "print(arr)"
   ]
  },
  {
   "cell_type": "code",
   "execution_count": 74,
   "metadata": {},
   "outputs": [
    {
     "name": "stdout",
     "output_type": "stream",
     "text": [
      "[[ 1  2  3  4]\n",
      " [ 5  6  7  8]\n",
      " [ 9 10 11 12]\n",
      " [13 14 15 16]] \n",
      "\n",
      " [[ 1  2  3  4  9 10 11 12]\n",
      " [ 5  6  7  8 13 14 15 16]]\n"
     ]
    }
   ],
   "source": [
    "var = np.array([ [1,2,3,4], [5,6,7,8] ])\n",
    "var1 = np.array([ [9,10,11,12],[13,14,15,16] ])\n",
    "arr = np.concatenate((var,var1), axis=0)\n",
    "arr2 = np.concatenate((var,var1), axis=1)\n",
    "print(arr,\"\\n\\n\",arr2)"
   ]
  },
  {
   "cell_type": "code",
   "execution_count": 79,
   "metadata": {},
   "outputs": [
    {
     "name": "stdout",
     "output_type": "stream",
     "text": [
      "[[1 5]\n",
      " [2 6]\n",
      " [3 7]\n",
      " [4 8]]\n"
     ]
    }
   ],
   "source": [
    "anew = np.stack((var , var1), axis=1) \n",
    "print(anew)"
   ]
  },
  {
   "cell_type": "code",
   "execution_count": 81,
   "metadata": {},
   "outputs": [
    {
     "name": "stdout",
     "output_type": "stream",
     "text": [
      "[1 2 3 4 5 6 7 8]\n",
      "\n",
      "[[1 2 3 4]\n",
      " [5 6 7 8]]\n",
      "\n",
      "[[[1 5]\n",
      "  [2 6]\n",
      "  [3 7]\n",
      "  [4 8]]]\n"
     ]
    }
   ],
   "source": [
    "print(np.hstack((var,var1)))\n",
    "print()\n",
    "print(np.vstack((var,var1)))\n",
    "print()\n",
    "print(np.dstack((var,var1)))"
   ]
  },
  {
   "cell_type": "markdown",
   "metadata": {},
   "source": [
    "# Search ,Sort ,Filter"
   ]
  },
  {
   "cell_type": "code",
   "execution_count": 89,
   "metadata": {},
   "outputs": [
    {
     "name": "stdout",
     "output_type": "stream",
     "text": [
      "(array([9]),)\n"
     ]
    }
   ],
   "source": [
    "arr = np.array([1,2,3,4,5,6,7,8,9,10])\n",
    "x = np.where( arr/2 >= 5 )\n",
    "\n",
    "print(x)"
   ]
  },
  {
   "cell_type": "code",
   "execution_count": 92,
   "metadata": {},
   "outputs": [
    {
     "name": "stdout",
     "output_type": "stream",
     "text": [
      "3\n"
     ]
    }
   ],
   "source": [
    "x = np.searchsorted(arr, 4)\n",
    "print(x)"
   ]
  },
  {
   "cell_type": "code",
   "execution_count": 93,
   "metadata": {},
   "outputs": [
    {
     "name": "stdout",
     "output_type": "stream",
     "text": [
      "[1 2 3 5 6 7 9]\n"
     ]
    }
   ],
   "source": [
    "arr1 = np.array([5,3,2,6,7,1,9])\n",
    "print(np.sort(arr1))"
   ]
  },
  {
   "cell_type": "code",
   "execution_count": 98,
   "metadata": {},
   "outputs": [
    {
     "name": "stdout",
     "output_type": "stream",
     "text": [
      "['a' 'b']\n"
     ]
    }
   ],
   "source": [
    "arr2 = np.array([\"a\",\"d\",\"b\",\"f\"])\n",
    "f= [True,False,True,False]\n",
    "\n",
    "print(arr2[f])"
   ]
  },
  {
   "cell_type": "markdown",
   "metadata": {},
   "source": [
    "# Shuffle , Unique , Resize, Flatten, Ravel Functions"
   ]
  },
  {
   "cell_type": "code",
   "execution_count": 102,
   "metadata": {},
   "outputs": [
    {
     "name": "stdout",
     "output_type": "stream",
     "text": [
      "None\n"
     ]
    }
   ],
   "source": [
    "arr = np.array([1,2,4,-1,5])\n",
    "var = np.random.shuffle(arr1)\n",
    "print(var)"
   ]
  },
  {
   "cell_type": "code",
   "execution_count": 107,
   "metadata": {},
   "outputs": [
    {
     "name": "stdout",
     "output_type": "stream",
     "text": [
      "(array([1, 2, 3, 4, 5, 6]), array([ 0,  4,  7, 10, 11, 12]), array([4, 3, 3, 1, 1, 1]))\n"
     ]
    }
   ],
   "source": [
    "a = np.array([1,1,1,1,2,2,2,3,3,3,4,5,6])\n",
    "x = np.unique(a, return_index=True, return_counts=True)\n",
    "print(x)"
   ]
  },
  {
   "cell_type": "code",
   "execution_count": 110,
   "metadata": {},
   "outputs": [
    {
     "name": "stdout",
     "output_type": "stream",
     "text": [
      "[[1 1]\n",
      " [1 1]]\n"
     ]
    }
   ],
   "source": [
    "print(np.resize(a,(2,2))) "
   ]
  },
  {
   "cell_type": "markdown",
   "metadata": {},
   "source": [
    "# Insert & Delete Functions"
   ]
  },
  {
   "cell_type": "code",
   "execution_count": 121,
   "metadata": {},
   "outputs": [
    {
     "data": {
      "text/plain": [
       "array([1, 2, 4])"
      ]
     },
     "execution_count": 121,
     "metadata": {},
     "output_type": "execute_result"
    }
   ],
   "source": [
    "a = np.array([1,2,3,4])\n",
    "np.insert(a,(0,3,4),5)\n",
    "np.delete(a,2)"
   ]
  },
  {
   "cell_type": "markdown",
   "metadata": {},
   "source": [
    "# Matrix"
   ]
  },
  {
   "cell_type": "code",
   "execution_count": 124,
   "metadata": {},
   "outputs": [
    {
     "name": "stdout",
     "output_type": "stream",
     "text": [
      "[[ 2  4  6]\n",
      " [ 8 10 12]\n",
      " [14 16 18]]\n",
      "\n",
      "[[0 0 0]\n",
      " [0 0 0]\n",
      " [0 0 0]]\n"
     ]
    }
   ],
   "source": [
    "mat = np.matrix([ [1,2,3],[4,5,6],[7,8,9] ])\n",
    "mat2 = np.matrix([ [1,2,3],[4,5,6],[7,8,9] ])\n",
    "print(mat+mat2)\n",
    "print()\n",
    "print(mat-mat2)"
   ]
  },
  {
   "cell_type": "code",
   "execution_count": 127,
   "metadata": {},
   "outputs": [
    {
     "name": "stdout",
     "output_type": "stream",
     "text": [
      "[[ 30  36  42]\n",
      " [ 66  81  96]\n",
      " [102 126 150]]\n",
      "\n",
      "[[ 30  36  42]\n",
      " [ 66  81  96]\n",
      " [102 126 150]]\n"
     ]
    }
   ],
   "source": [
    "print(mat * mat2)\n",
    "print()\n",
    "print(mat.dot(mat2))"
   ]
  },
  {
   "cell_type": "code",
   "execution_count": 134,
   "metadata": {},
   "outputs": [
    {
     "name": "stdout",
     "output_type": "stream",
     "text": [
      "[[1 2 3]\n",
      " [4 5 6]] \n",
      "\n",
      "[[1 4]\n",
      " [2 5]\n",
      " [3 6]]\n",
      "\n",
      "[[1 4]\n",
      " [2 5]\n",
      " [3 6]]\n",
      "\n",
      "[[1 2 3]\n",
      " [4 5 6]\n",
      " [7 8 9]]\n",
      "\n",
      "[[1 4 7]\n",
      " [2 5 8]\n",
      " [3 6 9]]\n",
      "\n"
     ]
    }
   ],
   "source": [
    "a = np.matrix([ [1,2,3] , [4,5,6]])\n",
    "print(a, \"\\n\")\n",
    "\n",
    "print(np.transpose(a))\n",
    "print()\n",
    "\n",
    "print(np.swapaxes(a, 0 ,1))\n",
    "print()\n",
    "\n",
    "print(mat)\n",
    "print()\n",
    "print(np.swapaxes(mat,0,1))\n",
    "print()"
   ]
  },
  {
   "cell_type": "code",
   "execution_count": 135,
   "metadata": {},
   "outputs": [
    {
     "name": "stdout",
     "output_type": "stream",
     "text": [
      "[[ 3.15251974e+15 -6.30503948e+15  3.15251974e+15]\n",
      " [-6.30503948e+15  1.26100790e+16 -6.30503948e+15]\n",
      " [ 3.15251974e+15 -6.30503948e+15  3.15251974e+15]]\n"
     ]
    }
   ],
   "source": [
    "print(np.linalg.inv(mat))"
   ]
  },
  {
   "cell_type": "code",
   "execution_count": 136,
   "metadata": {},
   "outputs": [
    {
     "name": "stdout",
     "output_type": "stream",
     "text": [
      "[[ 30  36  42]\n",
      " [ 66  81  96]\n",
      " [102 126 150]]\n"
     ]
    }
   ],
   "source": [
    "print(np.linalg.matrix_power(mat,2))"
   ]
  },
  {
   "cell_type": "code",
   "execution_count": 138,
   "metadata": {},
   "outputs": [
    {
     "name": "stdout",
     "output_type": "stream",
     "text": [
      "0.0\n"
     ]
    }
   ],
   "source": [
    "mat = np.matrix([ [1,2,3],[4,5,6],[1,2,3] ])\n",
    "print(np.linalg.det(mat))"
   ]
  },
  {
   "cell_type": "code",
   "execution_count": null,
   "metadata": {},
   "outputs": [],
   "source": []
  }
 ],
 "metadata": {
  "kernelspec": {
   "display_name": "Python 3",
   "language": "python",
   "name": "python3"
  },
  "language_info": {
   "codemirror_mode": {
    "name": "ipython",
    "version": 3
   },
   "file_extension": ".py",
   "mimetype": "text/x-python",
   "name": "python",
   "nbconvert_exporter": "python",
   "pygments_lexer": "ipython3",
   "version": "3.11.3"
  },
  "orig_nbformat": 4
 },
 "nbformat": 4,
 "nbformat_minor": 2
}
